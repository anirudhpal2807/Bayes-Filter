{
  "nbformat": 4,
  "nbformat_minor": 0,
  "metadata": {
    "colab": {
      "provenance": []
    },
    "kernelspec": {
      "name": "python3",
      "display_name": "Python 3"
    },
    "language_info": {
      "name": "python"
    }
  },
  "cells": [
    {
      "cell_type": "markdown",
      "source": [
        "**Problem Statement**\n",
        "\n",
        "  We aim to estimate the true position and velocity of a ball thrown in 2D space using a Bayes Filter. The ball's motion is distorted by air resistance and gravity, and the position data we receive from a sensor is noisy and occasionally missing.\n",
        "\n"
      ],
      "metadata": {
        "id": "rO_JNvrXCP3_"
      }
    },
    {
      "cell_type": "markdown",
      "source": [
        "**Step-by-Step Bayes Filter for Ball Trajectory Estimation**"
      ],
      "metadata": {
        "id": "Zku6qgVzFDlg"
      }
    },
    {
      "cell_type": "markdown",
      "source": [
        " **Assumptions**\n",
        "The ball moves in a 2D plane:\n",
        "(\n",
        "𝑥\n",
        ",\n",
        "𝑦\n",
        ")\n",
        "(x,y)\n",
        "\n",
        "Motion influenced by:\n",
        "\n",
        "Gravity (\n",
        "𝑔\n",
        "=\n",
        "9.81\n",
        "\n",
        "𝑚\n",
        "/\n",
        "𝑠\n",
        "2\n",
        "g=9.81m/s\n",
        "2\n",
        " )\n",
        "\n",
        "Linear air drag (\n",
        "Fdrag\n",
        "​\n",
        " ∝−v)\n",
        "\n",
        "Time is discrete with constant time step\n",
        "Δ\n",
        "𝑡\n",
        "Δt\n",
        "\n",
        "Motion and measurement noise are Gaussian\n",
        "\n",
        "The sensor sometimes misses observations\n"
      ],
      "metadata": {
        "id": "T2itRFO0FCs_"
      }
    },
    {
      "cell_type": "markdown",
      "source": [
        "**State Vector**\n",
        "\n",
        "We define the state vector as:\n",
        "\n",
        " X :In the context of Bayesian filtering or probabilistic state estimation\n",
        "\n",
        " x: Horizontal position of the ball\n",
        "\n",
        "\n",
        "y: Vertical position of the ball\n",
        "\n",
        "\n",
        "v\n",
        "x\n",
        "​\n",
        " : Horizontal velocity of the ball\n",
        "\n",
        "\n",
        "v\n",
        "y\n",
        "​\n",
        " : Vertical velocity of the ball\n",
        "\n"
      ],
      "metadata": {
        "id": "AFqgfj2DGGbh"
      }
    },
    {
      "cell_type": "markdown",
      "source": [
        "**System Setup**"
      ],
      "metadata": {
        "id": "rBJfmpPHCKm-"
      }
    },
    {
      "cell_type": "code",
      "source": [
        "import numpy as np"
      ],
      "metadata": {
        "id": "etEF822ZHa14"
      },
      "execution_count": 1,
      "outputs": []
    },
    {
      "cell_type": "code",
      "source": [
        "import matplotlib.pyplot as plt"
      ],
      "metadata": {
        "id": "-WGFzMm9HfII"
      },
      "execution_count": 2,
      "outputs": []
    },
    {
      "cell_type": "markdown",
      "source": [
        "**Constants**"
      ],
      "metadata": {
        "id": "47FxTs8-Hpw3"
      }
    },
    {
      "cell_type": "markdown",
      "source": [
        "dt:                  Time step\n",
        "\n",
        "g :                Gravity (m/s^2)\n",
        "\n",
        "k :                 Air resistance coefficient\n",
        "\n",
        "num_steps:          Total time steps\n",
        "\n",
        "missing_rate:        Probability of missing data"
      ],
      "metadata": {
        "id": "OIdkHM_uHvDY"
      }
    },
    {
      "cell_type": "code",
      "source": [
        "dt = 0.1\n",
        "g = 9.81\n",
        "k = 0.1\n",
        "num_steps = 100\n",
        "missing_rate = 0.2"
      ],
      "metadata": {
        "id": "wPDwvdkvIFZ4"
      },
      "execution_count": 3,
      "outputs": []
    },
    {
      "cell_type": "markdown",
      "source": [
        "**Process and measurement noise**\n",
        "\n",
        "1. Process Noise (process_noise_std)\n",
        "\n",
        " What it is:\n",
        "\n",
        " Random uncertainty in the actual motion or behavior of the object you're modeling.\n",
        "\n",
        " Why it happens:\n",
        "The physical world is unpredictable — even if you apply the same force to a ball, tiny variations (wind, friction, small physical changes) make it behave slightly differently each time.\n",
        "\n",
        " In filtering:\n",
        "We add small random noise to the motion model to simulate real-world unpredictability.\n",
        "\n",
        "2. Measurement Noise (measurement_noise_std)\n",
        "\n",
        " What it is:\n",
        "\n",
        " Errors or uncertainty in the sensor readings (camera, radar, etc.).\n",
        "\n",
        " Why it happens:\n",
        "No sensor is perfect. Measurements might be affected by resolution, angle, signal interference, etc.\n",
        "\n",
        " In filtering:\n",
        "We assume measurements are noisy observations of the true position."
      ],
      "metadata": {
        "id": "13GvtKElIkIo"
      }
    },
    {
      "cell_type": "code",
      "source": [
        "process_noise_std = 0.5\n",
        "measurement_noise_std = 2.0"
      ],
      "metadata": {
        "id": "eZcJDDedJFBi"
      },
      "execution_count": null,
      "outputs": []
    },
    {
      "cell_type": "markdown",
      "source": [
        "**Initial state**\n",
        "\n",
        "The initial state is our starting estimate of the object's condition before any time has passed or observations have been made."
      ],
      "metadata": {
        "id": "yerqOa5AJaR5"
      }
    },
    {
      "cell_type": "code",
      "source": [
        "# Initial state: [x, y, vx, vy]\n",
        "initial_state = np.array([0.0, 0.0, 20.0, 30.0])"
      ],
      "metadata": {
        "id": "pfLaNSF5Jr0R"
      },
      "execution_count": 4,
      "outputs": []
    },
    {
      "cell_type": "markdown",
      "source": [
        "**Simulate True Trajectory**\n",
        "\n",
        "This section simulates the true trajectory of a ball moving under the influence of gravity and air resistance, and also generates noisy sensor observations, some of which may be missing."
      ],
      "metadata": {
        "id": "zVjhWGDXJ0Xp"
      }
    },
    {
      "cell_type": "markdown",
      "source": [
        "**true_state**\n",
        "\n",
        "This is a list (or array) used to store the actual or ground-truth states of a system over time. In contexts like simulations, tracking systems true_states holds the real positions, velocities, or other quantities that define the system's behavior at each time step.\n",
        "\n",
        "**observations**\n",
        "\n",
        "This is a list (or array) used to store the measured or observed data over time. These observations are typically noisy or partial measurements of the true_states, obtained from sensors or external systems.\n",
        "\n",
        "\n",
        "\n"
      ],
      "metadata": {
        "id": "V6BoxPF3K22y"
      }
    },
    {
      "cell_type": "code",
      "source": [
        "true_states = []\n",
        "observations = []\n",
        "\n",
        "state = initial_state.copy()"
      ],
      "metadata": {
        "id": "91ubC3LlL2JT"
      },
      "execution_count": 5,
      "outputs": []
    },
    {
      "cell_type": "markdown",
      "source": [
        "**Loop Structure**"
      ],
      "metadata": {
        "id": "qgaXy7JrKnz5"
      }
    },
    {
      "cell_type": "code",
      "source": [
        "for _ in range(num_steps):\n",
        "    pass"
      ],
      "metadata": {
        "id": "ib82xnVKKuvS"
      },
      "execution_count": 14,
      "outputs": []
    },
    {
      "cell_type": "markdown",
      "source": [
        "**Store the current state**"
      ],
      "metadata": {
        "id": "Rl2XjMlFL536"
      }
    },
    {
      "cell_type": "code",
      "source": [
        "true_states.append(state.copy())"
      ],
      "metadata": {
        "id": "ko3_iuWZM8Zq"
      },
      "execution_count": 28,
      "outputs": []
    },
    {
      "cell_type": "markdown",
      "source": [
        "**Physics-Based Motion Model**\n",
        "\n",
        "The ball's velocity and position are updated based on:\n",
        "\n",
        "Gravity:\n",
        " causes constant acceleration downward (\n",
        "−g)\n",
        "\n",
        "Linear air resistance:\n",
        " slows down the velocity proportionally to its value (\n",
        "−k⋅v)\n",
        "\n",
        "This simulates a realistic, curved trajectory.\n",
        "\n",
        ""
      ],
      "metadata": {
        "id": "BcPPHRq1NFYD"
      }
    },
    {
      "cell_type": "code",
      "source": [
        "x, y, vx, vy = state\n",
        "vx += -k * vx * dt\n",
        "vy += (-g - k * vy) * dt\n",
        "x += vx * dt\n",
        "y += vy * dt\n"
      ],
      "metadata": {
        "id": "jYjAp2FnNops"
      },
      "execution_count": 29,
      "outputs": []
    },
    {
      "cell_type": "markdown",
      "source": [
        "**Ground Check (Collision Handling)**\n",
        "\n",
        "If the ball falls below the ground (y < 0), it's reset to y = 0.\n",
        "\n",
        "The vertical velocity is also set to zero — simulating the ball hitting the ground and stopping (simple bounce model).\n"
      ],
      "metadata": {
        "id": "FcU3vrC8NqzN"
      }
    },
    {
      "cell_type": "code",
      "source": [
        "if y < 0:\n",
        "    y = 0\n",
        "    vy = 0\n"
      ],
      "metadata": {
        "id": "_19bdcJyN0XK"
      },
      "execution_count": 30,
      "outputs": []
    },
    {
      "cell_type": "markdown",
      "source": [
        "**Update the State Vector**\n",
        "\n",
        "Updates the state for the next time step with the new position and velocity.\n"
      ],
      "metadata": {
        "id": "1hLPydujN3cc"
      }
    },
    {
      "cell_type": "code",
      "source": [
        "state = np.array([x, y, vx, vy])\n"
      ],
      "metadata": {
        "id": "sS_DcYDzOBrK"
      },
      "execution_count": 31,
      "outputs": []
    },
    {
      "cell_type": "markdown",
      "source": [
        "**Sensor Observation Simulation**\n",
        "\n",
        "A random number is generated between 0 and 1.\n",
        "\n",
        "If it's greater than the missing_rate, a sensor reading is generated.\n",
        "\n"
      ],
      "metadata": {
        "id": "MX1VrB46ODJa"
      }
    },
    {
      "cell_type": "code",
      "source": [
        "if np.random.rand() > missing_rate:\n",
        "    pass  # This tells Python to \"do nothing\" for now\n",
        "\n"
      ],
      "metadata": {
        "id": "zSa0ZECUOWQz"
      },
      "execution_count": 32,
      "outputs": []
    },
    {
      "cell_type": "markdown",
      "source": [
        " **If Observation is Available**\n",
        "\n",
        " Adds Gaussian noise to the true position (\n",
        "x,y) to simulate a noisy sensor measurement.\n",
        "\n",
        "The noisy observation is stored.\n",
        "\n",
        "Observed_or_Not = {\n",
        "    Generate noisy measurement   if r > missing_rate\n",
        "    None (missing)               otherwise\n",
        "}"
      ],
      "metadata": {
        "id": "gipa-fCzOz9E"
      }
    },
    {
      "cell_type": "code",
      "source": [
        "if np.random.rand() > missing_rate:\n",
        "        obs_x = x + np.random.normal(0, measurement_noise_std)\n",
        "        obs_y = y + np.random.normal(0, measurement_noise_std)\n",
        "        observations.append(np.array([obs_x, obs_y]))\n",
        "else:\n",
        "        observations.append(None)"
      ],
      "metadata": {
        "id": "KFmED-gLPEX9"
      },
      "execution_count": 41,
      "outputs": []
    },
    {
      "cell_type": "markdown",
      "source": [
        "**Bayes Filter Implementation**\n"
      ],
      "metadata": {
        "id": "j8xgs-j7QzWn"
      }
    },
    {
      "cell_type": "markdown",
      "source": [
        "Bayes Filter Concept\n",
        "\n",
        "A Bayes filter estimates the state of a system (e.g., position, velocity) over time by:\n",
        "\n",
        "Predicting the state based on a known motion model (physics),\n",
        "\n",
        "Updating the prediction using sensor measurements (if available).\n"
      ],
      "metadata": {
        "id": "lR25OxHUQ2RN"
      }
    },
    {
      "cell_type": "markdown",
      "source": [
        "You create an empty list **estimated_states** to store estimated states over time.\n",
        "\n",
        "**state_est** holds the current estimated state — initialized from the known **initial_state**.\n",
        "\n",
        "A state here includes:\n",
        "\n",
        "x: horizontal position\n",
        "\n",
        "y: vertical position\n",
        "\n",
        "\n",
        "vx: horizontal velocity\n",
        "\n",
        "\n",
        "vy: vertical velocity\n",
        "\n",
        "Bel(x_t) = η ⋅ P(z_t | x_t) ⋅ ∫ P(x_t | x_{t-1}) ⋅ Bel(x_{t-1}) dx_{t-1}"
      ],
      "metadata": {
        "id": "GJG1OiKORxT_"
      }
    },
    {
      "cell_type": "code",
      "source": [
        "estimated_states = []\n",
        "state_est = initial_state.copy()"
      ],
      "metadata": {
        "id": "r0Mg-0gjRgMQ"
      },
      "execution_count": 42,
      "outputs": []
    },
    {
      "cell_type": "markdown",
      "source": [
        "**Time Loop for Sequential Estimation**\n",
        "\n",
        "The code iterates over each time step to update the state estimate based on physics and (optionally) sensor data."
      ],
      "metadata": {
        "id": "HQEpYJcdSEJu"
      }
    },
    {
      "cell_type": "code",
      "source": [
        "for t in range(num_steps):\n",
        "  pass\n"
      ],
      "metadata": {
        "id": "b78K4RZmSQ8G"
      },
      "execution_count": 44,
      "outputs": []
    },
    {
      "cell_type": "markdown",
      "source": [
        "**Predict Step — Motion Model**\n",
        "\n",
        "This block applies Newtonian mechanics to predict the next state of the object:\n",
        "\n",
        "\n",
        "**Air Resistance (Drag)**\n",
        "\n",
        "-k * vx and -k * vy apply a damping force proportional to velocity.\n",
        "\n",
        "\n",
        "**Gravity**\n",
        "\n",
        "-g affects the vertical velocity.\n",
        "\n",
        "Euler Integration:\n",
        "Updates position using the updated velocities.\n",
        "\n",
        "This gives a predicted state based on physical motion laws.\n"
      ],
      "metadata": {
        "id": "MxADOCuOSVbs"
      }
    },
    {
      "cell_type": "code",
      "source": [
        "x, y, vx, vy = state_est\n",
        "vx += -k * vx * dt\n",
        "vy += (-g - k * vy) * dt\n",
        "x += vx * dt\n",
        "y += vy * dt\n"
      ],
      "metadata": {
        "id": "StauEJ-LStJN"
      },
      "execution_count": 45,
      "outputs": []
    },
    {
      "cell_type": "markdown",
      "source": [
        "**Handle Ground Contact (Constraint)**\n",
        "\n",
        "This prevents the object from going below ground level.\n",
        "\n",
        "If it hits the ground (y < 0), the position is set to 0 and vertical velocity is zeroed."
      ],
      "metadata": {
        "id": "Mx3-NmSuSwCV"
      }
    },
    {
      "cell_type": "code",
      "source": [
        "if y < 0:\n",
        "    y = 0\n",
        "    vy = 0\n"
      ],
      "metadata": {
        "id": "uqhCJg9sS4Gm"
      },
      "execution_count": 46,
      "outputs": []
    },
    {
      "cell_type": "markdown",
      "source": [
        "**Save Prediction**\n",
        "\n",
        "This is the predicted state before considering sensor measurements\n"
      ],
      "metadata": {
        "id": "1R5ZcBPKS7h_"
      }
    },
    {
      "cell_type": "code",
      "source": [
        "state_pred = np.array([x, y, vx, vy])\n",
        "\n"
      ],
      "metadata": {
        "id": "PYgQjYmhTHEJ"
      },
      "execution_count": 52,
      "outputs": []
    },
    {
      "cell_type": "markdown",
      "source": [
        "**Measurement Update (Bayesian Correction)**\n",
        "\n",
        "If a measurement is available at time t, extract it.\n",
        "\n",
        "The measurement includes observed x and y (no velocity).\n",
        "\n",
        "**Simple Measurement Fusion**\n",
        "\n",
        "Combines the predicted position and the measured position using a weighted average.\n",
        "\n",
        "This mimics a Bayesian update where both prediction and observation are assumed to have Gaussian uncertainty.\n",
        "\n",
        "weight = 0.2 implies more trust in the prediction (80%) and less in the sensor (20%).\n"
      ],
      "metadata": {
        "id": "yppwMP2eTLwu"
      }
    },
    {
      "cell_type": "code",
      "source": [
        "if observations[t] is not None:\n",
        "        z = observations[t]\n",
        "        meas_x, meas_y = z\n",
        "\n",
        "        # Simple measurement fusion: weighted average\n",
        "        # (You could use Kalman gain here, but keeping it simple)\n",
        "        weight = 0.2  # measurement trust\n",
        "        x = (1 - weight) * state_pred[0] + weight * meas_x\n",
        "        y = (1 - weight) * state_pred[1] + weight * meas_y\n",
        "\n",
        "        state_est = np.array([x, y, vx, vy])\n",
        "else:\n",
        "        # No measurement: just use prediction\n",
        "        state_est = state_pred\n",
        "\n",
        "estimated_states.append(state_est.copy())\n"
      ],
      "metadata": {
        "id": "ERGZepV8TShn"
      },
      "execution_count": 60,
      "outputs": []
    },
    {
      "cell_type": "markdown",
      "source": [
        "This is a Bayes filter implementation in a discrete-time simulation that:\n",
        "\n",
        "Predicts the next state using physics (motion model),\n",
        "\n",
        "Corrects it using a noisy observation (if available),\n",
        "\n",
        "Balances trust between model and measurement via a weight,\n",
        "\n",
        "Handles edge cases like ground contact and missing data.\n",
        "\n",
        "It’s a simplified version of more advanced Bayesian estimators like the Kalman filter, but still captures the key principle of predict → update → repeat.\n",
        "\n",
        "Let me know if you’d like a diagram or code visualization too!\n",
        "\n",
        "\n"
      ],
      "metadata": {
        "id": "o417EukAVTWs"
      }
    },
    {
      "cell_type": "markdown",
      "source": [
        "**Plot the Results**\n"
      ],
      "metadata": {
        "id": "bFU8HcgOWIno"
      }
    },
    {
      "cell_type": "markdown",
      "source": [
        "**Convert Lists to NumPy Arrays**\n",
        "\n",
        "Converts the list of state vectors into 2D NumPy arrays for efficient slicing and plotting.\n",
        "\n",
        "Each row in the arrays represents a state [x, y, vx, vy] at a specific time step.\n",
        "\n"
      ],
      "metadata": {
        "id": "Y84ChsEhWeEn"
      }
    },
    {
      "cell_type": "code",
      "source": [
        "true_states = np.array(true_states)\n",
        "estimated_states = np.array(estimated_states)\n"
      ],
      "metadata": {
        "id": "jkX-XTK7ayMB"
      },
      "execution_count": 72,
      "outputs": []
    },
    {
      "cell_type": "markdown",
      "source": [],
      "metadata": {
        "id": "r0hiVmNFax0C"
      }
    },
    {
      "cell_type": "markdown",
      "source": [
        "**Initialize the Plot**\n",
        "\n",
        "Creates a blank canvas for the plot with a width of 10 inches and height of 6 inches.\n",
        "\n",
        "Prepares for overlaying multiple data types: true trajectory, estimated trajectory, and observations.\n"
      ],
      "metadata": {
        "id": "oqRvyzTiWoUO"
      }
    },
    {
      "cell_type": "code",
      "source": [
        "plt.figure(figsize=(10, 6))\n"
      ],
      "metadata": {
        "colab": {
          "base_uri": "https://localhost:8080/",
          "height": 52
        },
        "id": "TWEgeFxxa7RR",
        "outputId": "5b43473d-e6db-4f0c-fc8d-bdd7aa0709ee"
      },
      "execution_count": 73,
      "outputs": [
        {
          "output_type": "execute_result",
          "data": {
            "text/plain": [
              "<Figure size 1000x600 with 0 Axes>"
            ]
          },
          "metadata": {},
          "execution_count": 73
        },
        {
          "output_type": "display_data",
          "data": {
            "text/plain": [
              "<Figure size 1000x600 with 0 Axes>"
            ]
          },
          "metadata": {}
        }
      ]
    },
    {
      "cell_type": "markdown",
      "source": [
        "**Plot the True Trajectory**\n",
        "\n",
        "Plots the actual path followed by the ball using simulation data.\n",
        "\n",
        "x = true_states[:, 0]\n",
        "\n",
        " y = true_states[:, 1]\n",
        "\n",
        "This represents the ground truth.\n",
        "\n"
      ],
      "metadata": {
        "id": "_aSklF_pXMM2"
      }
    },
    {
      "cell_type": "code",
      "source": [
        "plt.plot(true_states[:, 0], true_states[:, 1], label='True Trajectory', c='blue')\n"
      ],
      "metadata": {
        "colab": {
          "base_uri": "https://localhost:8080/",
          "height": 447
        },
        "id": "GalMUa5Ra-3I",
        "outputId": "3bbcc944-e976-4c39-c130-84b8fc1faa9c"
      },
      "execution_count": 93,
      "outputs": [
        {
          "output_type": "execute_result",
          "data": {
            "text/plain": [
              "[<matplotlib.lines.Line2D at 0x7e961c34b810>]"
            ]
          },
          "metadata": {},
          "execution_count": 93
        },
        {
          "output_type": "display_data",
          "data": {
            "text/plain": [
              "<Figure size 640x480 with 1 Axes>"
            ],
            "image/png": "[encoded data removed]"
          },
          "metadata": {}
        }
      ]
    },
    {
      "cell_type": "markdown",
      "source": [
        "**Plot the Estimated Trajectory**\n",
        "\n",
        "Plots the estimated path produced by the Bayes filter.\n",
        "\n",
        "The green dashed line helps visually compare with the true path.\n"
      ],
      "metadata": {
        "id": "dXBpd5nlXhgI"
      }
    },
    {
      "cell_type": "code",
      "source": [
        "plt.plot(estimated_states[:, 0], estimated_states[:, 1], label='Estimated Trajectory', c='red', linestyle='--')\n"
      ],
      "metadata": {
        "colab": {
          "base_uri": "https://localhost:8080/",
          "height": 447
        },
        "id": "lWY3Qh3fbCs5",
        "outputId": "8fa51e5c-2a5c-4dfe-efbc-cdb6ddd508fd"
      },
      "execution_count": 94,
      "outputs": [
        {
          "output_type": "execute_result",
          "data": {
            "text/plain": [
              "[<matplotlib.lines.Line2D at 0x7e961c315050>]"
            ]
          },
          "metadata": {},
          "execution_count": 94
        },
        {
          "output_type": "display_data",
          "data": {
            "text/plain": [
              "<Figure size 640x480 with 1 Axes>"
            ],
            "image/png": "[encoded data removed]"
          },
          "metadata": {}
        }
      ]
    },
    {
      "cell_type": "markdown",
      "source": [
        "**Extract and Plot Sensor Observations**\n",
        "\n",
        "\n",
        "This handles missing observations by filtering out None values.\n",
        "\n",
        "Plots the noisy sensor observations as red dots, showing what the \"sensor\" actually saw.\n",
        "\n",
        "s=20: marker size; alpha=0.6: slight transparency for visual clarity."
      ],
      "metadata": {
        "id": "SopfBN_8X16Q"
      }
    },
    {
      "cell_type": "code",
      "source": [
        "obs_x = [z[0] for z in observations if z is not None]\n",
        "obs_y = [z[1] for z in observations if z is not None]\n",
        "plt.scatter(obs_x, obs_y, label='Sensor Observations', c='green', s=20, alpha=0.9)\n"
      ],
      "metadata": {
        "colab": {
          "base_uri": "https://localhost:8080/",
          "height": 447
        },
        "id": "29b3ttK0bGUI",
        "outputId": "4732b168-d2f2-498d-bf87-8794df0bb5bd"
      },
      "execution_count": 113,
      "outputs": [
        {
          "output_type": "execute_result",
          "data": {
            "text/plain": [
              "<matplotlib.collections.PathCollection at 0x7e960dd3b250>"
            ]
          },
          "metadata": {},
          "execution_count": 113
        },
        {
          "output_type": "display_data",
          "data": {
            "text/plain": [
              "<Figure size 640x480 with 1 Axes>"
            ],
            "image/png": "[encoded data removed]"
          },
          "metadata": {}
        }
      ]
    },
    {
      "cell_type": "markdown",
      "source": [
        "**Add Ground Line**\n",
        "\n",
        "Draws a horizontal line at y=0 to indicate the ground (where the ball bounces or stops)."
      ],
      "metadata": {
        "id": "JFhiJSBBYE-t"
      }
    },
    {
      "cell_type": "code",
      "source": [
        "plt.axhline(y=0, color='blue', linestyle='--', label='Ground Level')\n"
      ],
      "metadata": {
        "colab": {
          "base_uri": "https://localhost:8080/",
          "height": 452
        },
        "id": "a10u1EPzbKA0",
        "outputId": "47a8c48e-d866-4ec7-94b7-58b1ad82c4b8"
      },
      "execution_count": 101,
      "outputs": [
        {
          "output_type": "execute_result",
          "data": {
            "text/plain": [
              "<matplotlib.lines.Line2D at 0x7e961c245ed0>"
            ]
          },
          "metadata": {},
          "execution_count": 101
        },
        {
          "output_type": "display_data",
          "data": {
            "text/plain": [
              "<Figure size 640x480 with 1 Axes>"
            ],
            "image/png": "[encoded data removed]"
          },
          "metadata": {}
        }
      ]
    },
    {
      "cell_type": "markdown",
      "source": [
        "**Add Labels and Decorations**\n",
        "\n",
        "Title and axis labels clarify what the plot shows.\n",
        "\n",
        "Legend identifies each plotted line/point.\n",
        "\n",
        "Grid makes it easier to interpret the positions visually.\n",
        "\n",
        "plt.show() renders the plot.\n",
        "\n",
        "\n"
      ],
      "metadata": {
        "id": "rbPSnlfdYPfD"
      }
    },
    {
      "cell_type": "code",
      "source": [
        "true_states = np.array(true_states)\n",
        "estimated_states = np.array(estimated_states)\n",
        "\n",
        "plt.figure(figsize=(12, 8))\n",
        "\n",
        "# Plot trajectories\n",
        "plt.plot(true_states[:, 0], true_states[:, 1], label='True Trajectory', c='blue')\n",
        "plt.plot(estimated_states[:, 0], estimated_states[:, 1], label='Estimated Trajectory', c='red', linestyle='--')\n",
        "\n",
        "# Plot observations\n",
        "obs_x = [z[0] for z in observations if z is not None]\n",
        "obs_y = [z[1] for z in observations if z is not None]\n",
        "plt.scatter(obs_x, obs_y, label='Sensor Observations', c='green', s=20, alpha=0.9)\n",
        "\n",
        "plt.axhline(y=0, color='black', linestyle='--', label='Ground Level')\n",
        "plt.title(\"Ball Trajectory Estimation using Bayes Filter\")\n",
        "plt.xlabel(\"X Position (m)\")\n",
        "plt.ylabel(\"Y Position (m)\")\n",
        "plt.legend()\n",
        "plt.grid()\n",
        "plt.show()\n"
      ],
      "metadata": {
        "colab": {
          "base_uri": "https://localhost:8080/",
          "height": 526
        },
        "id": "nVMZg2DicTrD",
        "outputId": "6d733f49-9b29-4f6b-e8c2-f3c306dc8c17"
      },
      "execution_count": 122,
      "outputs": [
        {
          "output_type": "display_data",
          "data": {
            "text/plain": [
              "<Figure size 1200x800 with 1 Axes>"
            ],
            "image/png": "[encoded data removed]"
          },
          "metadata": {}
        }
      ]
    },
    {
      "cell_type": "markdown",
      "source": [
        "**conclusion**\n",
        "\n",
        "  In this project, we simulated the motion of a ball thrown from a boundary line toward a keeper, accounting for realistic environmental effects such as gravity, air resistance, and sensor imperfections (noisy and missing data). The goal was to estimate the true position and velocity of the ball over time using a Bayes filter.\n",
        "\n",
        "Key Learnings:\n",
        "Bayes Filter Framework:\n",
        "\n",
        "The Bayes filter was used to predict the ball’s next state based on a motion model and then update the estimate using available sensor measurements.\n",
        "\n",
        "This framework is ideal when data is uncertain or incomplete, as it maintains a probabilistic belief over the system's state.\n",
        "\n",
        "Handling Real-World Conditions:\n",
        "\n",
        "Process noise simulated unpredictable motion variations (e.g., wind or surface friction).\n",
        "\n",
        "Measurement noise captured the reality of inaccurate sensors.\n",
        "\n",
        "The missing rate introduced a realistic challenge of data dropout, which the filter handled by relying on predictions when observations were unavailable.\n",
        "\n",
        "Robust Estimation:\n",
        "\n",
        "Despite incomplete and noisy observations, the Bayes filter was able to track the ball’s trajectory smoothly.\n",
        "\n",
        "When measurements were missing, the filter leveraged its internal motion model to continue estimating the state.\n",
        "\n",
        "📈 Visual & Analytical Outcome:\n",
        "The true path, noisy observations, and estimated trajectory (using the filter) showed that:\n",
        "\n",
        "The filter stayed close to the real trajectory.\n",
        "\n",
        "The system recovered well from missing data by relying on past belief and dynamics.\n",
        "\n",
        "Adding a probabilistic framework like this improves robustness in real-world tracking systems.\n",
        "\n",
        "🧩 Conclusion:\n",
        "The Bayes filter provides a powerful and intuitive framework for state estimation under uncertainty, particularly in situations with noisy and incomplete observations. In this simulation, it successfully estimated the 2D position and velocity of a ball thrown on a distorted parabolic path — proving its applicability to real-time motion tracking, robotics, and control systems.\n"
      ],
      "metadata": {
        "id": "Q76dg5UJevPM"
      }
    }
  ]
}